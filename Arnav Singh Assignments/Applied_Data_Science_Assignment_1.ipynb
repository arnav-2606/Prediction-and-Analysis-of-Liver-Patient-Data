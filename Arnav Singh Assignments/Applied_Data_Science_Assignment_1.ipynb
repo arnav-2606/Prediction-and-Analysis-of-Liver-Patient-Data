{
  "nbformat": 4,
  "nbformat_minor": 0,
  "metadata": {
    "colab": {
      "provenance": []
    },
    "kernelspec": {
      "name": "python3",
      "display_name": "Python 3"
    },
    "language_info": {
      "name": "python"
    }
  },
  "cells": [
    {
      "cell_type": "markdown",
      "source": [
        "#Arnav Singh\n",
        "#Applied Data Science \n",
        "#Assignment 1"
      ],
      "metadata": {
        "id": "HKYCeolJn_tb"
      }
    },
    {
      "cell_type": "markdown",
      "source": [
        "1. Assign your Name to variable name and Age to variable age. Make a Python program that prints your name and age.\n"
      ],
      "metadata": {
        "id": "1JJoW1KXoM2x"
      }
    },
    {
      "cell_type": "code",
      "execution_count": 1,
      "metadata": {
        "colab": {
          "base_uri": "https://localhost:8080/"
        },
        "id": "fwYll4Oqnuzp",
        "outputId": "b8927c38-b745-487f-99cf-64c2749afe83"
      },
      "outputs": [
        {
          "output_type": "stream",
          "name": "stdout",
          "text": [
            "Name: Arnav Singh\n",
            "Age: 20\n"
          ]
        }
      ],
      "source": [
        "name = \"Arnav Singh\"\n",
        "age = 20\n",
        "\n",
        "print(\"Name:\", name)\n",
        "print(\"Age:\", age)"
      ]
    },
    {
      "cell_type": "markdown",
      "source": [
        "2. X=\"Datascience is used to extract meaningful insights.\" Split the string"
      ],
      "metadata": {
        "id": "Qq4zKMurof6a"
      }
    },
    {
      "cell_type": "code",
      "source": [
        "X = \"Datascience is used to extract meaningful insights.\"\n",
        "split_str = X.split()\n",
        "print(\"String after splitting\", split_str)"
      ],
      "metadata": {
        "colab": {
          "base_uri": "https://localhost:8080/"
        },
        "id": "5zBO_OKLokey",
        "outputId": "475cf363-c4e1-4549-8a6d-1dc4996bebc1"
      },
      "execution_count": 2,
      "outputs": [
        {
          "output_type": "stream",
          "name": "stdout",
          "text": [
            "String after splitting ['Datascience', 'is', 'used', 'to', 'extract', 'meaningful', 'insights.']\n"
          ]
        }
      ]
    },
    {
      "cell_type": "markdown",
      "source": [
        "3. Make a function that gives multiplication of two numbers"
      ],
      "metadata": {
        "id": "PL3cGPI-o3Lb"
      }
    },
    {
      "cell_type": "code",
      "source": [
        "def multiply(a,b):\n",
        "    return a * b\n",
        "\n",
        "res = multiply(6,9)\n",
        "print(\"Multiplication result:\", res)"
      ],
      "metadata": {
        "colab": {
          "base_uri": "https://localhost:8080/"
        },
        "id": "Q-KlHXkMo9RY",
        "outputId": "c0aef9d4-c30f-4914-c828-2c857bfbf700"
      },
      "execution_count": 3,
      "outputs": [
        {
          "output_type": "stream",
          "name": "stdout",
          "text": [
            "Multiplication result: 54\n"
          ]
        }
      ]
    },
    {
      "cell_type": "markdown",
      "source": [
        "4. Create a Dictionary of 5 States with their capitals. also print the keys and values."
      ],
      "metadata": {
        "id": "XA3Nuq03pWLJ"
      }
    },
    {
      "cell_type": "code",
      "source": [
        "dict={\"Madhya Pradesh\": \"Bhopal\", \"Uttar Pradesh\": \"Lucknow\",\"Bihar\": \"Patna\",\"Chhattisgarh\": \"Raipur\",\"Goa\": \"Panaji\"}\n",
        "print(\"Keys:\",dict.keys())\n",
        "print(\"Values:\",dict.values())"
      ],
      "metadata": {
        "colab": {
          "base_uri": "https://localhost:8080/"
        },
        "id": "rcSf3_Fdpath",
        "outputId": "0e73dbf9-ff9b-41f0-de9a-f7d9ff3140bf"
      },
      "execution_count": 9,
      "outputs": [
        {
          "output_type": "stream",
          "name": "stdout",
          "text": [
            "Keys: dict_keys(['Madhya Pradesh', 'Uttar Pradesh', 'Bihar', 'Chhattisgarh', 'Goa'])\n",
            "Values: dict_values(['Bhopal', 'Lucknow', 'Patna', 'Raipur', 'Panaji'])\n"
          ]
        }
      ]
    },
    {
      "cell_type": "markdown",
      "source": [
        "5. Create a list of 1000 numbers using range function."
      ],
      "metadata": {
        "id": "SKahqmCuq7C5"
      }
    },
    {
      "cell_type": "code",
      "source": [
        "list1=[]\n",
        "for i in range(1,1001):\n",
        "  list1.append(i)\n",
        "print(list1)"
      ],
      "metadata": {
        "colab": {
          "base_uri": "https://localhost:8080/"
        },
        "id": "pXIUwjEHrDm3",
        "outputId": "c7733b3b-87c9-47bf-85ff-c367f388ca40"
      },
      "execution_count": 12,
      "outputs": [
        {
          "output_type": "stream",
          "name": "stdout",
          "text": [
            "[1, 2, 3, 4, 5, 6, 7, 8, 9, 10, 11, 12, 13, 14, 15, 16, 17, 18, 19, 20, 21, 22, 23, 24, 25, 26, 27, 28, 29, 30, 31, 32, 33, 34, 35, 36, 37, 38, 39, 40, 41, 42, 43, 44, 45, 46, 47, 48, 49, 50, 51, 52, 53, 54, 55, 56, 57, 58, 59, 60, 61, 62, 63, 64, 65, 66, 67, 68, 69, 70, 71, 72, 73, 74, 75, 76, 77, 78, 79, 80, 81, 82, 83, 84, 85, 86, 87, 88, 89, 90, 91, 92, 93, 94, 95, 96, 97, 98, 99, 100, 101, 102, 103, 104, 105, 106, 107, 108, 109, 110, 111, 112, 113, 114, 115, 116, 117, 118, 119, 120, 121, 122, 123, 124, 125, 126, 127, 128, 129, 130, 131, 132, 133, 134, 135, 136, 137, 138, 139, 140, 141, 142, 143, 144, 145, 146, 147, 148, 149, 150, 151, 152, 153, 154, 155, 156, 157, 158, 159, 160, 161, 162, 163, 164, 165, 166, 167, 168, 169, 170, 171, 172, 173, 174, 175, 176, 177, 178, 179, 180, 181, 182, 183, 184, 185, 186, 187, 188, 189, 190, 191, 192, 193, 194, 195, 196, 197, 198, 199, 200, 201, 202, 203, 204, 205, 206, 207, 208, 209, 210, 211, 212, 213, 214, 215, 216, 217, 218, 219, 220, 221, 222, 223, 224, 225, 226, 227, 228, 229, 230, 231, 232, 233, 234, 235, 236, 237, 238, 239, 240, 241, 242, 243, 244, 245, 246, 247, 248, 249, 250, 251, 252, 253, 254, 255, 256, 257, 258, 259, 260, 261, 262, 263, 264, 265, 266, 267, 268, 269, 270, 271, 272, 273, 274, 275, 276, 277, 278, 279, 280, 281, 282, 283, 284, 285, 286, 287, 288, 289, 290, 291, 292, 293, 294, 295, 296, 297, 298, 299, 300, 301, 302, 303, 304, 305, 306, 307, 308, 309, 310, 311, 312, 313, 314, 315, 316, 317, 318, 319, 320, 321, 322, 323, 324, 325, 326, 327, 328, 329, 330, 331, 332, 333, 334, 335, 336, 337, 338, 339, 340, 341, 342, 343, 344, 345, 346, 347, 348, 349, 350, 351, 352, 353, 354, 355, 356, 357, 358, 359, 360, 361, 362, 363, 364, 365, 366, 367, 368, 369, 370, 371, 372, 373, 374, 375, 376, 377, 378, 379, 380, 381, 382, 383, 384, 385, 386, 387, 388, 389, 390, 391, 392, 393, 394, 395, 396, 397, 398, 399, 400, 401, 402, 403, 404, 405, 406, 407, 408, 409, 410, 411, 412, 413, 414, 415, 416, 417, 418, 419, 420, 421, 422, 423, 424, 425, 426, 427, 428, 429, 430, 431, 432, 433, 434, 435, 436, 437, 438, 439, 440, 441, 442, 443, 444, 445, 446, 447, 448, 449, 450, 451, 452, 453, 454, 455, 456, 457, 458, 459, 460, 461, 462, 463, 464, 465, 466, 467, 468, 469, 470, 471, 472, 473, 474, 475, 476, 477, 478, 479, 480, 481, 482, 483, 484, 485, 486, 487, 488, 489, 490, 491, 492, 493, 494, 495, 496, 497, 498, 499, 500, 501, 502, 503, 504, 505, 506, 507, 508, 509, 510, 511, 512, 513, 514, 515, 516, 517, 518, 519, 520, 521, 522, 523, 524, 525, 526, 527, 528, 529, 530, 531, 532, 533, 534, 535, 536, 537, 538, 539, 540, 541, 542, 543, 544, 545, 546, 547, 548, 549, 550, 551, 552, 553, 554, 555, 556, 557, 558, 559, 560, 561, 562, 563, 564, 565, 566, 567, 568, 569, 570, 571, 572, 573, 574, 575, 576, 577, 578, 579, 580, 581, 582, 583, 584, 585, 586, 587, 588, 589, 590, 591, 592, 593, 594, 595, 596, 597, 598, 599, 600, 601, 602, 603, 604, 605, 606, 607, 608, 609, 610, 611, 612, 613, 614, 615, 616, 617, 618, 619, 620, 621, 622, 623, 624, 625, 626, 627, 628, 629, 630, 631, 632, 633, 634, 635, 636, 637, 638, 639, 640, 641, 642, 643, 644, 645, 646, 647, 648, 649, 650, 651, 652, 653, 654, 655, 656, 657, 658, 659, 660, 661, 662, 663, 664, 665, 666, 667, 668, 669, 670, 671, 672, 673, 674, 675, 676, 677, 678, 679, 680, 681, 682, 683, 684, 685, 686, 687, 688, 689, 690, 691, 692, 693, 694, 695, 696, 697, 698, 699, 700, 701, 702, 703, 704, 705, 706, 707, 708, 709, 710, 711, 712, 713, 714, 715, 716, 717, 718, 719, 720, 721, 722, 723, 724, 725, 726, 727, 728, 729, 730, 731, 732, 733, 734, 735, 736, 737, 738, 739, 740, 741, 742, 743, 744, 745, 746, 747, 748, 749, 750, 751, 752, 753, 754, 755, 756, 757, 758, 759, 760, 761, 762, 763, 764, 765, 766, 767, 768, 769, 770, 771, 772, 773, 774, 775, 776, 777, 778, 779, 780, 781, 782, 783, 784, 785, 786, 787, 788, 789, 790, 791, 792, 793, 794, 795, 796, 797, 798, 799, 800, 801, 802, 803, 804, 805, 806, 807, 808, 809, 810, 811, 812, 813, 814, 815, 816, 817, 818, 819, 820, 821, 822, 823, 824, 825, 826, 827, 828, 829, 830, 831, 832, 833, 834, 835, 836, 837, 838, 839, 840, 841, 842, 843, 844, 845, 846, 847, 848, 849, 850, 851, 852, 853, 854, 855, 856, 857, 858, 859, 860, 861, 862, 863, 864, 865, 866, 867, 868, 869, 870, 871, 872, 873, 874, 875, 876, 877, 878, 879, 880, 881, 882, 883, 884, 885, 886, 887, 888, 889, 890, 891, 892, 893, 894, 895, 896, 897, 898, 899, 900, 901, 902, 903, 904, 905, 906, 907, 908, 909, 910, 911, 912, 913, 914, 915, 916, 917, 918, 919, 920, 921, 922, 923, 924, 925, 926, 927, 928, 929, 930, 931, 932, 933, 934, 935, 936, 937, 938, 939, 940, 941, 942, 943, 944, 945, 946, 947, 948, 949, 950, 951, 952, 953, 954, 955, 956, 957, 958, 959, 960, 961, 962, 963, 964, 965, 966, 967, 968, 969, 970, 971, 972, 973, 974, 975, 976, 977, 978, 979, 980, 981, 982, 983, 984, 985, 986, 987, 988, 989, 990, 991, 992, 993, 994, 995, 996, 997, 998, 999, 1000]\n"
          ]
        }
      ]
    },
    {
      "cell_type": "markdown",
      "source": [
        "6. Create an identity matrix of dimension 4 by 4"
      ],
      "metadata": {
        "id": "Sa9njpSXrXyw"
      }
    },
    {
      "cell_type": "code",
      "source": [
        "import numpy as np\n",
        "mat1= np.eye(4)\n",
        "mat1"
      ],
      "metadata": {
        "colab": {
          "base_uri": "https://localhost:8080/"
        },
        "id": "Qpg4JSNVraMo",
        "outputId": "4b2a6dc7-3fb0-4f32-f446-cdb78a1d4aba"
      },
      "execution_count": 13,
      "outputs": [
        {
          "output_type": "execute_result",
          "data": {
            "text/plain": [
              "array([[1., 0., 0., 0.],\n",
              "       [0., 1., 0., 0.],\n",
              "       [0., 0., 1., 0.],\n",
              "       [0., 0., 0., 1.]])"
            ]
          },
          "metadata": {},
          "execution_count": 13
        }
      ]
    },
    {
      "cell_type": "markdown",
      "source": [
        "7. Create a 3x3 matrix with values ranging from 1 to 9"
      ],
      "metadata": {
        "id": "DqS5IB8Erz83"
      }
    },
    {
      "cell_type": "code",
      "source": [
        "mat2 = np.arange(1, 10).reshape(3, 3)\n",
        "print(mat2)"
      ],
      "metadata": {
        "colab": {
          "base_uri": "https://localhost:8080/"
        },
        "id": "on29t1ztr2Cn",
        "outputId": "96d0bd4d-a96f-4bbd-a245-b4d52a06d804"
      },
      "execution_count": 18,
      "outputs": [
        {
          "output_type": "stream",
          "name": "stdout",
          "text": [
            "[[1 2 3]\n",
            " [4 5 6]\n",
            " [7 8 9]]\n"
          ]
        }
      ]
    },
    {
      "cell_type": "markdown",
      "source": [
        "8. Create 2 similar dimensional array and perform sum on them."
      ],
      "metadata": {
        "id": "Hq2dRAbnsehv"
      }
    },
    {
      "cell_type": "code",
      "source": [
        "mat3 = np.ones(16).reshape(4, 4)\n",
        "print(mat3)\n",
        "print()\n",
        "\n",
        "mat4 = np.arange(1, 17).reshape(4, 4)\n",
        "print(mat4)\n",
        "print()\n",
        "\n",
        "print(\"Summation of Mat3 and Mat4:\")\n",
        "print(mat3+mat4)"
      ],
      "metadata": {
        "colab": {
          "base_uri": "https://localhost:8080/"
        },
        "id": "gAv4i3a9s91O",
        "outputId": "a9ff11ea-6522-4bc3-c3a2-2524f70311bb"
      },
      "execution_count": 26,
      "outputs": [
        {
          "output_type": "stream",
          "name": "stdout",
          "text": [
            "[[1. 1. 1. 1.]\n",
            " [1. 1. 1. 1.]\n",
            " [1. 1. 1. 1.]\n",
            " [1. 1. 1. 1.]]\n",
            "\n",
            "[[ 1  2  3  4]\n",
            " [ 5  6  7  8]\n",
            " [ 9 10 11 12]\n",
            " [13 14 15 16]]\n",
            "\n",
            "Summation of Mat3 and Mat4:\n",
            "[[ 2.  3.  4.  5.]\n",
            " [ 6.  7.  8.  9.]\n",
            " [10. 11. 12. 13.]\n",
            " [14. 15. 16. 17.]]\n"
          ]
        }
      ]
    },
    {
      "cell_type": "markdown",
      "source": [
        "9. Generate the series of dates from 1st Feb, 2023 to 1st March, 2023 (both inclusive)"
      ],
      "metadata": {
        "id": "iui0GcDCt24f"
      }
    },
    {
      "cell_type": "code",
      "source": [
        "from datetime import datetime, timedelta\n",
        "\n",
        "start_date = datetime(2023, 2, 1)\n",
        "end_date = datetime(2023, 3, 1)\n",
        "\n",
        "num_days = (end_date - start_date).days + 1\n",
        "date_array = np.array([start_date + timedelta(days=i) for i in range(num_days)])\n",
        "\n",
        "print(date_array)"
      ],
      "metadata": {
        "colab": {
          "base_uri": "https://localhost:8080/"
        },
        "id": "vZMyT4rJt5SA",
        "outputId": "76115d19-3ba2-449e-bd7e-3b1aa80469b4"
      },
      "execution_count": 27,
      "outputs": [
        {
          "output_type": "stream",
          "name": "stdout",
          "text": [
            "[datetime.datetime(2023, 2, 1, 0, 0) datetime.datetime(2023, 2, 2, 0, 0)\n",
            " datetime.datetime(2023, 2, 3, 0, 0) datetime.datetime(2023, 2, 4, 0, 0)\n",
            " datetime.datetime(2023, 2, 5, 0, 0) datetime.datetime(2023, 2, 6, 0, 0)\n",
            " datetime.datetime(2023, 2, 7, 0, 0) datetime.datetime(2023, 2, 8, 0, 0)\n",
            " datetime.datetime(2023, 2, 9, 0, 0) datetime.datetime(2023, 2, 10, 0, 0)\n",
            " datetime.datetime(2023, 2, 11, 0, 0) datetime.datetime(2023, 2, 12, 0, 0)\n",
            " datetime.datetime(2023, 2, 13, 0, 0) datetime.datetime(2023, 2, 14, 0, 0)\n",
            " datetime.datetime(2023, 2, 15, 0, 0) datetime.datetime(2023, 2, 16, 0, 0)\n",
            " datetime.datetime(2023, 2, 17, 0, 0) datetime.datetime(2023, 2, 18, 0, 0)\n",
            " datetime.datetime(2023, 2, 19, 0, 0) datetime.datetime(2023, 2, 20, 0, 0)\n",
            " datetime.datetime(2023, 2, 21, 0, 0) datetime.datetime(2023, 2, 22, 0, 0)\n",
            " datetime.datetime(2023, 2, 23, 0, 0) datetime.datetime(2023, 2, 24, 0, 0)\n",
            " datetime.datetime(2023, 2, 25, 0, 0) datetime.datetime(2023, 2, 26, 0, 0)\n",
            " datetime.datetime(2023, 2, 27, 0, 0) datetime.datetime(2023, 2, 28, 0, 0)\n",
            " datetime.datetime(2023, 3, 1, 0, 0)]\n"
          ]
        }
      ]
    },
    {
      "cell_type": "markdown",
      "source": [
        "10. Given a dictionary, convert it into corresponding dataframe and display it\n",
        "\n",
        "    dictionary = {'Brand': ['Maruti', 'Renault', 'Hyndai'], 'Sales' : [250, 200, 240]}"
      ],
      "metadata": {
        "id": "8AyJSKDVuWMu"
      }
    },
    {
      "cell_type": "code",
      "source": [
        "import pandas as pd\n",
        "dictionary = {'Brand': ['Maruti', 'Renault', 'Hyundai'], 'Sales': [250, 200, 240]}\n",
        "\n",
        "df = pd.DataFrame.from_dict(dictionary)\n",
        "print(df)\n"
      ],
      "metadata": {
        "colab": {
          "base_uri": "https://localhost:8080/"
        },
        "id": "QJFqTIkNuglm",
        "outputId": "ff2041a4-eec2-4e28-d9fb-c4e84eb5308e"
      },
      "execution_count": 28,
      "outputs": [
        {
          "output_type": "stream",
          "name": "stdout",
          "text": [
            "     Brand  Sales\n",
            "0   Maruti    250\n",
            "1  Renault    200\n",
            "2  Hyundai    240\n"
          ]
        }
      ]
    }
  ]
}